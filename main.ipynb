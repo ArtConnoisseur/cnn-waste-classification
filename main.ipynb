{
 "cells": [
  {
   "metadata": {
    "jupyter": {
     "is_executing": true
    }
   },
   "cell_type": "code",
   "source": "print(\"Hello World\")",
   "id": "856bb9eb88d66f19",
   "outputs": [],
   "execution_count": null
  }
 ],
 "metadata": {},
 "nbformat": 5,
 "nbformat_minor": 9
}
